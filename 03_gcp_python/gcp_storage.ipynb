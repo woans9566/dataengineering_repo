{
 "cells": [
  {
   "cell_type": "markdown",
   "id": "717201b1",
   "metadata": {},
   "source": [
    "## 0. 필요 라이브러리 import"
   ]
  },
  {
   "cell_type": "code",
   "execution_count": null,
   "id": "d6a2dd43",
   "metadata": {},
   "outputs": [],
   "source": [
    "!pip install google-cloud-storage"
   ]
  },
  {
   "cell_type": "code",
   "execution_count": null,
   "id": "0ecd1443",
   "metadata": {},
   "outputs": [],
   "source": [
    "from google.oauth2 import service_account\n",
    "from google.cloud import storage"
   ]
  },
  {
   "cell_type": "markdown",
   "id": "b12a9d57",
   "metadata": {},
   "source": [
    "## 1. GCP 권한 인증"
   ]
  },
  {
   "cell_type": "code",
   "execution_count": null,
   "id": "de8976f8",
   "metadata": {},
   "outputs": [],
   "source": [
    "## 권한 인증\n",
    "\n",
    "JSON_KEY_PATH = \".json\"\n",
    "\n",
    "credentials = service_account.Credentials.from_service_account_file(JSON_KEY_PATH)"
   ]
  },
  {
   "cell_type": "code",
   "execution_count": null,
   "id": "90ca15a3",
   "metadata": {},
   "outputs": [],
   "source": [
    "## Client 생성"
   ]
  },
  {
   "cell_type": "markdown",
   "id": "fe0313b9",
   "metadata": {},
   "source": [
    "## 2. Parquet 파일 다루기\n",
    "- 데이터를 객체 저장소에 저장할 때는, 용량 효율성, 빅데이터 도구들과의 호환성, 파티셔닝 등의 이점 때문에 CSV나 JSON 같은 포맷보다 Parquet 포맷을 사용하는 경우가 많습니다. (대부분 Parquet 사용)"
   ]
  },
  {
   "cell_type": "code",
   "execution_count": 4,
   "id": "c850248e",
   "metadata": {},
   "outputs": [
    {
     "data": {
      "text/html": [
       "<div>\n",
       "<style scoped>\n",
       "    .dataframe tbody tr th:only-of-type {\n",
       "        vertical-align: middle;\n",
       "    }\n",
       "\n",
       "    .dataframe tbody tr th {\n",
       "        vertical-align: top;\n",
       "    }\n",
       "\n",
       "    .dataframe thead th {\n",
       "        text-align: right;\n",
       "    }\n",
       "</style>\n",
       "<table border=\"1\" class=\"dataframe\">\n",
       "  <thead>\n",
       "    <tr style=\"text-align: right;\">\n",
       "      <th></th>\n",
       "      <th>idx</th>\n",
       "      <th>sex</th>\n",
       "      <th>status</th>\n",
       "      <th>grade</th>\n",
       "    </tr>\n",
       "  </thead>\n",
       "  <tbody>\n",
       "    <tr>\n",
       "      <th>0</th>\n",
       "      <td>100</td>\n",
       "      <td>남</td>\n",
       "      <td>유료회원</td>\n",
       "      <td>초1학년</td>\n",
       "    </tr>\n",
       "    <tr>\n",
       "      <th>1</th>\n",
       "      <td>1000</td>\n",
       "      <td>여</td>\n",
       "      <td>유료회원</td>\n",
       "      <td>초5학년</td>\n",
       "    </tr>\n",
       "    <tr>\n",
       "      <th>2</th>\n",
       "      <td>10000</td>\n",
       "      <td>여</td>\n",
       "      <td>유료회원</td>\n",
       "      <td>초6학년</td>\n",
       "    </tr>\n",
       "    <tr>\n",
       "      <th>3</th>\n",
       "      <td>100007</td>\n",
       "      <td>남</td>\n",
       "      <td>유료회원</td>\n",
       "      <td>초4학년</td>\n",
       "    </tr>\n",
       "    <tr>\n",
       "      <th>4</th>\n",
       "      <td>10001</td>\n",
       "      <td>남</td>\n",
       "      <td>유료회원</td>\n",
       "      <td>초2학년</td>\n",
       "    </tr>\n",
       "  </tbody>\n",
       "</table>\n",
       "</div>"
      ],
      "text/plain": [
       "      idx sex status grade\n",
       "0     100   남   유료회원  초1학년\n",
       "1    1000   여   유료회원  초5학년\n",
       "2   10000   여   유료회원  초6학년\n",
       "3  100007   남   유료회원  초4학년\n",
       "4   10001   남   유료회원  초2학년"
      ]
     },
     "execution_count": 4,
     "metadata": {},
     "output_type": "execute_result"
    }
   ],
   "source": [
    "## parquet 파일 읽기\n",
    "\n",
    "import pandas as pd\n",
    "\n",
    "df = pd.read_parquet('dataset/member.parquet')\n",
    "\n",
    "df.head()"
   ]
  },
  {
   "cell_type": "code",
   "execution_count": 5,
   "id": "e49c2242",
   "metadata": {},
   "outputs": [],
   "source": [
    "## parquet 파일 쓰기\n",
    "\n",
    "df.to_parquet(\n",
    "    path='dataset/member_parquet.parquet',\n",
    "    index=False,\n",
    "    engine='pyarrow',\n",
    "    compression='gzip'\n",
    ")"
   ]
  },
  {
   "cell_type": "markdown",
   "id": "b0643097",
   "metadata": {},
   "source": [
    "## 3. Bucket 관련 작업"
   ]
  },
  {
   "cell_type": "code",
   "execution_count": null,
   "id": "61ffca41",
   "metadata": {},
   "outputs": [],
   "source": [
    "## 1) 버킷 목록 가져오기"
   ]
  },
  {
   "cell_type": "code",
   "execution_count": null,
   "id": "d4f56e2f",
   "metadata": {},
   "outputs": [],
   "source": [
    "## 2) 버킷 생성"
   ]
  },
  {
   "cell_type": "code",
   "execution_count": null,
   "id": "028e5cf0",
   "metadata": {},
   "outputs": [],
   "source": [
    "## 3) 버킷 정보 조회"
   ]
  },
  {
   "cell_type": "code",
   "execution_count": null,
   "id": "333a16f4",
   "metadata": {},
   "outputs": [],
   "source": [
    "## 4) 버킷 삭제"
   ]
  },
  {
   "cell_type": "markdown",
   "id": "c7870891",
   "metadata": {},
   "source": [
    "## 4. 객체 관련 작업"
   ]
  },
  {
   "cell_type": "code",
   "execution_count": null,
   "id": "442b2ede",
   "metadata": {},
   "outputs": [],
   "source": [
    "## 1) 객체 업로드 - 파일"
   ]
  },
  {
   "cell_type": "code",
   "execution_count": null,
   "id": "21055f32",
   "metadata": {},
   "outputs": [],
   "source": [
    "## 2) 객체 업로드 - DataFrame"
   ]
  },
  {
   "cell_type": "code",
   "execution_count": null,
   "id": "647f0fe1",
   "metadata": {},
   "outputs": [],
   "source": [
    "## 3) 객체 다운로드"
   ]
  },
  {
   "cell_type": "code",
   "execution_count": null,
   "id": "7ce469b2",
   "metadata": {},
   "outputs": [],
   "source": [
    "## 4) 폴더 내 객체 목록 가져오기"
   ]
  },
  {
   "cell_type": "code",
   "execution_count": null,
   "id": "a9bcd2c1",
   "metadata": {},
   "outputs": [],
   "source": [
    "## 5) 객체 유무 조회"
   ]
  },
  {
   "cell_type": "code",
   "execution_count": null,
   "id": "a4a01208",
   "metadata": {},
   "outputs": [],
   "source": [
    "## 6) 객체 삭제"
   ]
  },
  {
   "cell_type": "markdown",
   "id": "7819bd00",
   "metadata": {},
   "source": [
    "## 5. Pandas로 GCP 데이터 읽기\n",
    "\n",
    "- GCS를 작업자의 로컬 디렉토리 처럼 활용하여 데이터를 조회할 수 있는 매우 편리한 기능!"
   ]
  },
  {
   "cell_type": "code",
   "execution_count": null,
   "id": "afc78364",
   "metadata": {},
   "outputs": [],
   "source": [
    "!pip install fsspec gcsfs"
   ]
  },
  {
   "cell_type": "code",
   "execution_count": null,
   "id": "0d383c20",
   "metadata": {},
   "outputs": [],
   "source": [
    "df = pd.read_parquet('dataset/member.parquet')"
   ]
  },
  {
   "cell_type": "code",
   "execution_count": 11,
   "id": "f95e6fb4",
   "metadata": {},
   "outputs": [],
   "source": [
    "JSON_KEY_PATH = \"sa_key/sprintda05-DE_key.json\""
   ]
  },
  {
   "cell_type": "code",
   "execution_count": 12,
   "id": "e6ce1f83",
   "metadata": {},
   "outputs": [
    {
     "data": {
      "text/html": [
       "<div>\n",
       "<style scoped>\n",
       "    .dataframe tbody tr th:only-of-type {\n",
       "        vertical-align: middle;\n",
       "    }\n",
       "\n",
       "    .dataframe tbody tr th {\n",
       "        vertical-align: top;\n",
       "    }\n",
       "\n",
       "    .dataframe thead th {\n",
       "        text-align: right;\n",
       "    }\n",
       "</style>\n",
       "<table border=\"1\" class=\"dataframe\">\n",
       "  <thead>\n",
       "    <tr style=\"text-align: right;\">\n",
       "      <th></th>\n",
       "      <th>idx</th>\n",
       "      <th>proc_ym</th>\n",
       "      <th>proc_ymd</th>\n",
       "      <th>point</th>\n",
       "    </tr>\n",
       "  </thead>\n",
       "  <tbody>\n",
       "    <tr>\n",
       "      <th>0</th>\n",
       "      <td>87376</td>\n",
       "      <td>202304</td>\n",
       "      <td>20230401</td>\n",
       "      <td>1000</td>\n",
       "    </tr>\n",
       "    <tr>\n",
       "      <th>1</th>\n",
       "      <td>87599</td>\n",
       "      <td>202304</td>\n",
       "      <td>20230401</td>\n",
       "      <td>1000</td>\n",
       "    </tr>\n",
       "    <tr>\n",
       "      <th>2</th>\n",
       "      <td>87682</td>\n",
       "      <td>202304</td>\n",
       "      <td>20230401</td>\n",
       "      <td>1000</td>\n",
       "    </tr>\n",
       "    <tr>\n",
       "      <th>3</th>\n",
       "      <td>87555</td>\n",
       "      <td>202304</td>\n",
       "      <td>20230401</td>\n",
       "      <td>1000</td>\n",
       "    </tr>\n",
       "    <tr>\n",
       "      <th>4</th>\n",
       "      <td>87569</td>\n",
       "      <td>202304</td>\n",
       "      <td>20230401</td>\n",
       "      <td>1000</td>\n",
       "    </tr>\n",
       "    <tr>\n",
       "      <th>...</th>\n",
       "      <td>...</td>\n",
       "      <td>...</td>\n",
       "      <td>...</td>\n",
       "      <td>...</td>\n",
       "    </tr>\n",
       "    <tr>\n",
       "      <th>92074</th>\n",
       "      <td>97018</td>\n",
       "      <td>202306</td>\n",
       "      <td>20230630</td>\n",
       "      <td>5000</td>\n",
       "    </tr>\n",
       "    <tr>\n",
       "      <th>92075</th>\n",
       "      <td>97035</td>\n",
       "      <td>202306</td>\n",
       "      <td>20230630</td>\n",
       "      <td>5000</td>\n",
       "    </tr>\n",
       "    <tr>\n",
       "      <th>92076</th>\n",
       "      <td>96869</td>\n",
       "      <td>202306</td>\n",
       "      <td>20230630</td>\n",
       "      <td>5000</td>\n",
       "    </tr>\n",
       "    <tr>\n",
       "      <th>92077</th>\n",
       "      <td>96751</td>\n",
       "      <td>202306</td>\n",
       "      <td>20230630</td>\n",
       "      <td>5000</td>\n",
       "    </tr>\n",
       "    <tr>\n",
       "      <th>92078</th>\n",
       "      <td>96831</td>\n",
       "      <td>202306</td>\n",
       "      <td>20230630</td>\n",
       "      <td>5000</td>\n",
       "    </tr>\n",
       "  </tbody>\n",
       "</table>\n",
       "<p>92079 rows × 4 columns</p>\n",
       "</div>"
      ],
      "text/plain": [
       "         idx  proc_ym  proc_ymd  point\n",
       "0      87376   202304  20230401   1000\n",
       "1      87599   202304  20230401   1000\n",
       "2      87682   202304  20230401   1000\n",
       "3      87555   202304  20230401   1000\n",
       "4      87569   202304  20230401   1000\n",
       "...      ...      ...       ...    ...\n",
       "92074  97018   202306  20230630   5000\n",
       "92075  97035   202306  20230630   5000\n",
       "92076  96869   202306  20230630   5000\n",
       "92077  96751   202306  20230630   5000\n",
       "92078  96831   202306  20230630   5000\n",
       "\n",
       "[92079 rows x 4 columns]"
      ]
     },
     "execution_count": 12,
     "metadata": {},
     "output_type": "execute_result"
    }
   ],
   "source": [
    "pd.read_csv(\n",
    "    filepath_or_buffer='gs://sprintda05-jaemun-bucket/edu_dataset/point_his.csv',\n",
    "    storage_options={'token' : JSON_KEY_PATH}\n",
    ")"
   ]
  },
  {
   "cell_type": "code",
   "execution_count": null,
   "id": "82337caa",
   "metadata": {},
   "outputs": [],
   "source": []
  }
 ],
 "metadata": {
  "kernelspec": {
   "display_name": "Python 3",
   "language": "python",
   "name": "python3"
  },
  "language_info": {
   "codemirror_mode": {
    "name": "ipython",
    "version": 3
   },
   "file_extension": ".py",
   "mimetype": "text/x-python",
   "name": "python",
   "nbconvert_exporter": "python",
   "pygments_lexer": "ipython3",
   "version": "3.12.3"
  }
 },
 "nbformat": 4,
 "nbformat_minor": 5
}
