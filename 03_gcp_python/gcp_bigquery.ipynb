{
 "cells": [
  {
   "cell_type": "markdown",
   "metadata": {},
   "source": [
    "## 0. 필요 라이브러리 import"
   ]
  },
  {
   "cell_type": "code",
   "execution_count": 2,
   "metadata": {},
   "outputs": [],
   "source": [
    "import pandas as pd\n",
    "from google.oauth2 import service_account\n",
    "from google.cloud import bigquery"
   ]
  },
  {
   "cell_type": "markdown",
   "metadata": {},
   "source": [
    "## 1. Pandas 라이브러리를 활용하여 BigQuery 다루기"
   ]
  },
  {
   "cell_type": "markdown",
   "metadata": {},
   "source": [
    "#### 1-1) GCP 권한 인증"
   ]
  },
  {
   "cell_type": "code",
   "execution_count": 4,
   "metadata": {},
   "outputs": [],
   "source": [
    "JSON_KEY_PATH = \"sa_key/sprintda05-DE_key.json\"\n",
    "\n",
    "credentials = service_account.Credentials.from_service_account_file(JSON_KEY_PATH)"
   ]
  },
  {
   "cell_type": "markdown",
   "metadata": {},
   "source": [
    "### 1-2) 고정값 정의"
   ]
  },
  {
   "cell_type": "code",
   "execution_count": 5,
   "metadata": {},
   "outputs": [],
   "source": [
    "project_id = 'sprintda05-jaemun'\n",
    "dataset = 'sprint_pokemon'\n",
    "table = 'pokemon'\n",
    "location = 'asia-northeast3'\n",
    "query = f\"SELECT * FROM {project_id}.{dataset}.{table}\""
   ]
  },
  {
   "cell_type": "markdown",
   "metadata": {},
   "source": [
    "#### 1-3) 데이터 읽기"
   ]
  },
  {
   "cell_type": "code",
   "execution_count": 6,
   "metadata": {},
   "outputs": [
    {
     "data": {
      "text/html": [
       "<div>\n",
       "<style scoped>\n",
       "    .dataframe tbody tr th:only-of-type {\n",
       "        vertical-align: middle;\n",
       "    }\n",
       "\n",
       "    .dataframe tbody tr th {\n",
       "        vertical-align: top;\n",
       "    }\n",
       "\n",
       "    .dataframe thead th {\n",
       "        text-align: right;\n",
       "    }\n",
       "</style>\n",
       "<table border=\"1\" class=\"dataframe\">\n",
       "  <thead>\n",
       "    <tr style=\"text-align: right;\">\n",
       "      <th></th>\n",
       "      <th>id</th>\n",
       "      <th>kor_name</th>\n",
       "      <th>eng_name</th>\n",
       "      <th>type1</th>\n",
       "      <th>type2</th>\n",
       "      <th>total</th>\n",
       "      <th>hp</th>\n",
       "      <th>attack</th>\n",
       "      <th>defense</th>\n",
       "      <th>special_attack</th>\n",
       "      <th>special_defense</th>\n",
       "      <th>speed</th>\n",
       "      <th>generation</th>\n",
       "      <th>is_legendary</th>\n",
       "    </tr>\n",
       "  </thead>\n",
       "  <tbody>\n",
       "    <tr>\n",
       "      <th>0</th>\n",
       "      <td>1</td>\n",
       "      <td>이상해씨</td>\n",
       "      <td>Bulbasaur</td>\n",
       "      <td>Grass</td>\n",
       "      <td>Poison</td>\n",
       "      <td>318</td>\n",
       "      <td>45</td>\n",
       "      <td>49</td>\n",
       "      <td>49</td>\n",
       "      <td>65</td>\n",
       "      <td>65</td>\n",
       "      <td>45</td>\n",
       "      <td>1</td>\n",
       "      <td>False</td>\n",
       "    </tr>\n",
       "    <tr>\n",
       "      <th>1</th>\n",
       "      <td>2</td>\n",
       "      <td>이상해풀</td>\n",
       "      <td>Ivysaur</td>\n",
       "      <td>Grass</td>\n",
       "      <td>Poison</td>\n",
       "      <td>405</td>\n",
       "      <td>60</td>\n",
       "      <td>62</td>\n",
       "      <td>63</td>\n",
       "      <td>80</td>\n",
       "      <td>80</td>\n",
       "      <td>60</td>\n",
       "      <td>1</td>\n",
       "      <td>False</td>\n",
       "    </tr>\n",
       "    <tr>\n",
       "      <th>2</th>\n",
       "      <td>3</td>\n",
       "      <td>이상해꽃</td>\n",
       "      <td>Venusaur</td>\n",
       "      <td>Grass</td>\n",
       "      <td>Poison</td>\n",
       "      <td>525</td>\n",
       "      <td>80</td>\n",
       "      <td>82</td>\n",
       "      <td>83</td>\n",
       "      <td>100</td>\n",
       "      <td>100</td>\n",
       "      <td>80</td>\n",
       "      <td>1</td>\n",
       "      <td>False</td>\n",
       "    </tr>\n",
       "    <tr>\n",
       "      <th>3</th>\n",
       "      <td>4</td>\n",
       "      <td>파이리</td>\n",
       "      <td>Charmander</td>\n",
       "      <td>Fire</td>\n",
       "      <td>None</td>\n",
       "      <td>309</td>\n",
       "      <td>39</td>\n",
       "      <td>52</td>\n",
       "      <td>43</td>\n",
       "      <td>60</td>\n",
       "      <td>50</td>\n",
       "      <td>65</td>\n",
       "      <td>1</td>\n",
       "      <td>False</td>\n",
       "    </tr>\n",
       "    <tr>\n",
       "      <th>4</th>\n",
       "      <td>5</td>\n",
       "      <td>리자드</td>\n",
       "      <td>Charmeleon</td>\n",
       "      <td>Fire</td>\n",
       "      <td>None</td>\n",
       "      <td>405</td>\n",
       "      <td>58</td>\n",
       "      <td>64</td>\n",
       "      <td>58</td>\n",
       "      <td>80</td>\n",
       "      <td>65</td>\n",
       "      <td>80</td>\n",
       "      <td>1</td>\n",
       "      <td>False</td>\n",
       "    </tr>\n",
       "  </tbody>\n",
       "</table>\n",
       "</div>"
      ],
      "text/plain": [
       "   id kor_name    eng_name  type1   type2  total  hp  attack  defense  \\\n",
       "0   1     이상해씨   Bulbasaur  Grass  Poison    318  45      49       49   \n",
       "1   2     이상해풀     Ivysaur  Grass  Poison    405  60      62       63   \n",
       "2   3     이상해꽃    Venusaur  Grass  Poison    525  80      82       83   \n",
       "3   4      파이리  Charmander   Fire    None    309  39      52       43   \n",
       "4   5      리자드  Charmeleon   Fire    None    405  58      64       58   \n",
       "\n",
       "   special_attack  special_defense  speed  generation  is_legendary  \n",
       "0              65               65     45           1         False  \n",
       "1              80               80     60           1         False  \n",
       "2             100              100     80           1         False  \n",
       "3              60               50     65           1         False  \n",
       "4              80               65     80           1         False  "
      ]
     },
     "execution_count": 6,
     "metadata": {},
     "output_type": "execute_result"
    }
   ],
   "source": [
    "df = pd.read_gbq(\n",
    "    query=query,\n",
    "    project_id=project_id,\n",
    "    location=location,\n",
    "    credentials=credentials\n",
    ")\n",
    "df.head()"
   ]
  },
  {
   "cell_type": "markdown",
   "metadata": {},
   "source": [
    "#### 1-4) 데이터 쓰기"
   ]
  },
  {
   "cell_type": "code",
   "execution_count": 7,
   "metadata": {},
   "outputs": [
    {
     "data": {
      "text/html": [
       "<div>\n",
       "<style scoped>\n",
       "    .dataframe tbody tr th:only-of-type {\n",
       "        vertical-align: middle;\n",
       "    }\n",
       "\n",
       "    .dataframe tbody tr th {\n",
       "        vertical-align: top;\n",
       "    }\n",
       "\n",
       "    .dataframe thead th {\n",
       "        text-align: right;\n",
       "    }\n",
       "</style>\n",
       "<table border=\"1\" class=\"dataframe\">\n",
       "  <thead>\n",
       "    <tr style=\"text-align: right;\">\n",
       "      <th></th>\n",
       "      <th>idx</th>\n",
       "      <th>proc_ym</th>\n",
       "      <th>proc_ymd</th>\n",
       "      <th>point</th>\n",
       "    </tr>\n",
       "  </thead>\n",
       "  <tbody>\n",
       "    <tr>\n",
       "      <th>0</th>\n",
       "      <td>96465</td>\n",
       "      <td>202306</td>\n",
       "      <td>20230624</td>\n",
       "      <td>1000</td>\n",
       "    </tr>\n",
       "    <tr>\n",
       "      <th>1</th>\n",
       "      <td>96465</td>\n",
       "      <td>202306</td>\n",
       "      <td>20230624</td>\n",
       "      <td>500</td>\n",
       "    </tr>\n",
       "    <tr>\n",
       "      <th>2</th>\n",
       "      <td>87940</td>\n",
       "      <td>202304</td>\n",
       "      <td>20230405</td>\n",
       "      <td>2000</td>\n",
       "    </tr>\n",
       "    <tr>\n",
       "      <th>3</th>\n",
       "      <td>87940</td>\n",
       "      <td>202304</td>\n",
       "      <td>20230405</td>\n",
       "      <td>3500</td>\n",
       "    </tr>\n",
       "    <tr>\n",
       "      <th>4</th>\n",
       "      <td>87940</td>\n",
       "      <td>202304</td>\n",
       "      <td>20230405</td>\n",
       "      <td>4000</td>\n",
       "    </tr>\n",
       "  </tbody>\n",
       "</table>\n",
       "</div>"
      ],
      "text/plain": [
       "     idx proc_ym  proc_ymd point\n",
       "0  96465  202306  20230624  1000\n",
       "1  96465  202306  20230624   500\n",
       "2  87940  202304  20230405  2000\n",
       "3  87940  202304  20230405  3500\n",
       "4  87940  202304  20230405  4000"
      ]
     },
     "execution_count": 7,
     "metadata": {},
     "output_type": "execute_result"
    }
   ],
   "source": [
    "point_his = pd.read_parquet(r'/home/sprint_test/dataengineering_repo/03_gcp_python/dataset/point_his.parquet')\n",
    "point_his.head()"
   ]
  },
  {
   "cell_type": "code",
   "execution_count": 12,
   "metadata": {},
   "outputs": [],
   "source": [
    "point_his.to_gbq(\n",
    "    destination_table='sprint_pokemon.point_his',\n",
    "    project_id=project_id,\n",
    "    location=location,\n",
    "    if_exists='replace',\n",
    "    credentials=credentials\n",
    ")"
   ]
  },
  {
   "cell_type": "code",
   "execution_count": null,
   "metadata": {},
   "outputs": [],
   "source": []
  },
  {
   "cell_type": "markdown",
   "metadata": {},
   "source": [
    "## 2. google-cloud-bigquery 라이브러리를 활용하여 BigQuery 다루기"
   ]
  },
  {
   "cell_type": "markdown",
   "metadata": {},
   "source": [
    "#### 2-1) GCP 권한 인증 및 Client 생성\n",
    "- Client - BigQuery에 사용자가 내린 명령을 API로 전달하고 결과를 가져오는 역할"
   ]
  },
  {
   "cell_type": "code",
   "execution_count": 8,
   "metadata": {},
   "outputs": [],
   "source": [
    "JSON_KEY_PATH = \"sa_key/sprintda05-DE_key.json\"\n",
    "\n",
    "credentials = service_account.Credentials.from_service_account_file(JSON_KEY_PATH)\n",
    "project_id = 'sprintda05-jaemun'\n",
    "dataset = 'sprint_pokemon'\n",
    "location = 'asia-northeast3'"
   ]
  },
  {
   "cell_type": "code",
   "execution_count": 9,
   "metadata": {},
   "outputs": [],
   "source": [
    "client = bigquery.Client(\n",
    "    project=project_id,\n",
    "    location=location,\n",
    "    credentials=credentials\n",
    ")"
   ]
  },
  {
   "cell_type": "markdown",
   "metadata": {},
   "source": [
    "#### 2-2) Dataset 관련 실습"
   ]
  },
  {
   "cell_type": "code",
   "execution_count": 19,
   "metadata": {},
   "outputs": [
    {
     "data": {
      "text/plain": [
       "Dataset(DatasetReference('sprintda05-jaemun', 'python_dataset'))"
      ]
     },
     "execution_count": 19,
     "metadata": {},
     "output_type": "execute_result"
    }
   ],
   "source": [
    "## dataset 생성\n",
    "dataset_name = 'python_dataset'\n",
    "\n",
    "dataset_obj = bigquery.Dataset(f'{project_id}.{dataset_name}')\n",
    "\n",
    "client.create_dataset(\n",
    "    dataset = dataset_obj,\n",
    "    exists_ok= True\n",
    ")"
   ]
  },
  {
   "cell_type": "code",
   "execution_count": 20,
   "metadata": {},
   "outputs": [
    {
     "name": "stdout",
     "output_type": "stream",
     "text": [
      "python_dataset\n",
      "sprint_pokemon\n"
     ]
    }
   ],
   "source": [
    "## dataset 목록 조회\n",
    "for dataset in client.list_datasets():\n",
    "    print(dataset.dataset_id)"
   ]
  },
  {
   "cell_type": "code",
   "execution_count": 14,
   "metadata": {},
   "outputs": [],
   "source": [
    "## 데이터셋 삭제\n",
    "client.delete_dataset(\n",
    "    dataset=f'{project_id}.{dataset_name}',\n",
    "    not_found_ok=True\n",
    ")"
   ]
  },
  {
   "cell_type": "markdown",
   "metadata": {},
   "source": [
    "#### 2-3) Table 관련 실습"
   ]
  },
  {
   "cell_type": "code",
   "execution_count": 16,
   "metadata": {},
   "outputs": [
    {
     "name": "stdout",
     "output_type": "stream",
     "text": [
      "item_his\n",
      "members\n",
      "point_his\n",
      "pokemon\n"
     ]
    }
   ],
   "source": [
    "## 테이블 목록 조회\n",
    "for table in client.list_tables(dataset='sprint_pokemon'):\n",
    "    print(table.table_id)"
   ]
  },
  {
   "cell_type": "code",
   "execution_count": 18,
   "metadata": {},
   "outputs": [
    {
     "data": {
      "text/html": [
       "<div>\n",
       "<style scoped>\n",
       "    .dataframe tbody tr th:only-of-type {\n",
       "        vertical-align: middle;\n",
       "    }\n",
       "\n",
       "    .dataframe tbody tr th {\n",
       "        vertical-align: top;\n",
       "    }\n",
       "\n",
       "    .dataframe thead th {\n",
       "        text-align: right;\n",
       "    }\n",
       "</style>\n",
       "<table border=\"1\" class=\"dataframe\">\n",
       "  <thead>\n",
       "    <tr style=\"text-align: right;\">\n",
       "      <th></th>\n",
       "      <th>idx</th>\n",
       "      <th>proc_ym</th>\n",
       "      <th>proc_ymd</th>\n",
       "      <th>point</th>\n",
       "    </tr>\n",
       "  </thead>\n",
       "  <tbody>\n",
       "    <tr>\n",
       "      <th>0</th>\n",
       "      <td>87376</td>\n",
       "      <td>202304</td>\n",
       "      <td>20230401</td>\n",
       "      <td>1000</td>\n",
       "    </tr>\n",
       "    <tr>\n",
       "      <th>1</th>\n",
       "      <td>87599</td>\n",
       "      <td>202304</td>\n",
       "      <td>20230401</td>\n",
       "      <td>1000</td>\n",
       "    </tr>\n",
       "    <tr>\n",
       "      <th>2</th>\n",
       "      <td>87682</td>\n",
       "      <td>202304</td>\n",
       "      <td>20230401</td>\n",
       "      <td>1000</td>\n",
       "    </tr>\n",
       "    <tr>\n",
       "      <th>3</th>\n",
       "      <td>87555</td>\n",
       "      <td>202304</td>\n",
       "      <td>20230401</td>\n",
       "      <td>1000</td>\n",
       "    </tr>\n",
       "    <tr>\n",
       "      <th>4</th>\n",
       "      <td>87569</td>\n",
       "      <td>202304</td>\n",
       "      <td>20230401</td>\n",
       "      <td>1000</td>\n",
       "    </tr>\n",
       "  </tbody>\n",
       "</table>\n",
       "</div>"
      ],
      "text/plain": [
       "     idx proc_ym  proc_ymd point\n",
       "0  87376  202304  20230401  1000\n",
       "1  87599  202304  20230401  1000\n",
       "2  87682  202304  20230401  1000\n",
       "3  87555  202304  20230401  1000\n",
       "4  87569  202304  20230401  1000"
      ]
     },
     "execution_count": 18,
     "metadata": {},
     "output_type": "execute_result"
    }
   ],
   "source": [
    "## 테이블 조회 \n",
    "table_obj = client.query(\n",
    "    query='SELECT * FROM sprint_pokemon.point_his',\n",
    "    location=location,\n",
    "    project=project_id\n",
    ")\n",
    "\n",
    "table_obj.to_dataframe().head()"
   ]
  },
  {
   "cell_type": "code",
   "execution_count": 21,
   "metadata": {},
   "outputs": [
    {
     "data": {
      "text/plain": [
       "CopyJob<project=sprintda05-jaemun, location=asia-northeast3, id=5b96875d-3382-4cfc-8cb0-a7458aa5004a>"
      ]
     },
     "execution_count": 21,
     "metadata": {},
     "output_type": "execute_result"
    }
   ],
   "source": [
    "## 테이블을 다른 dataset으로 복제\n",
    "\n",
    "client.copy_table(\n",
    "    sources='sprint_pokemon.members',\n",
    "    destination='python_dataset.member'\n",
    ")"
   ]
  },
  {
   "cell_type": "code",
   "execution_count": 22,
   "metadata": {},
   "outputs": [],
   "source": [
    "## dataframe -> Bigquery Table\n",
    "regdate = pd.read_parquet('/home/sprint_test/dataengineering_repo/03_gcp_python/dataset/regdate.parquet')"
   ]
  },
  {
   "cell_type": "code",
   "execution_count": 45,
   "metadata": {},
   "outputs": [
    {
     "data": {
      "text/plain": [
       "LoadJob<project=sprintda05-jaemun, location=asia-northeast3, id=5ab8bad9-7fa7-4f7d-8463-f0fa1c45d3bf>"
      ]
     },
     "execution_count": 45,
     "metadata": {},
     "output_type": "execute_result"
    }
   ],
   "source": [
    "client.load_table_from_dataframe(\n",
    "    dataframe=regdate,\n",
    "    destination='sprint_pokemon.regdate'\n",
    ")"
   ]
  },
  {
   "cell_type": "code",
   "execution_count": 46,
   "metadata": {},
   "outputs": [],
   "source": [
    "## 테이블 삭제\n",
    "client.delete_table(\n",
    "    table='sprint_pokemon.regdate',\n",
    "    not_found_ok= True\n",
    ")"
   ]
  },
  {
   "cell_type": "markdown",
   "metadata": {},
   "source": [
    "#### 2-4) 실습 미션 - 1"
   ]
  },
  {
   "cell_type": "code",
   "execution_count": 26,
   "metadata": {},
   "outputs": [
    {
     "data": {
      "text/plain": [
       "Dataset(DatasetReference('sprintda05-jaemun', 'education'))"
      ]
     },
     "execution_count": 26,
     "metadata": {},
     "output_type": "execute_result"
    }
   ],
   "source": [
    "client.create_dataset(\n",
    "    dataset='sprintda05-jaemun.education',\n",
    "    exists_ok=False\n",
    ")"
   ]
  },
  {
   "cell_type": "code",
   "execution_count": 73,
   "metadata": {},
   "outputs": [],
   "source": [
    "item_his = pd.read_parquet('/home/sprint_test/dataengineering_repo/03_gcp_python/dataset/item_his.parquet')\n",
    "member = pd.read_parquet('/home/sprint_test/dataengineering_repo/03_gcp_python/dataset/member.parquet')\n",
    "point_his = pd.read_parquet('/home/sprint_test/dataengineering_repo/03_gcp_python/dataset/point_his.parquet')\n",
    "regdate = pd.read_parquet('/home/sprint_test/dataengineering_repo/03_gcp_python/dataset/regdate.parquet')\n",
    "study_his = pd.read_parquet('/home/sprint_test/dataengineering_repo/03_gcp_python/dataset/study_his.parquet')\n",
    "\n",
    "data_dict = dict(\n",
    "    item_his = item_his,\n",
    "    member = member,\n",
    "    point_his = point_his,\n",
    "    regdate = regdate,\n",
    "    study_his = study_his \n",
    ")"
   ]
  },
  {
   "cell_type": "code",
   "execution_count": 74,
   "metadata": {},
   "outputs": [],
   "source": [
    "for key,value in data_dict.items():\n",
    "    client.load_table_from_dataframe(\n",
    "        dataframe=value,\n",
    "        destination=f'education.{key}'\n",
    "    )"
   ]
  },
  {
   "cell_type": "code",
   "execution_count": 77,
   "metadata": {},
   "outputs": [],
   "source": [
    "for table in client.list_tables(dataset='education'):\n",
    "    table_name = table.table_id\n",
    "    \n",
    "    if  table_name != 'member':\n",
    "        client.copy_table(\n",
    "            sources=f'education.{table_name}',\n",
    "            destination=f'python_dataset.{table_name}'\n",
    "        )"
   ]
  },
  {
   "cell_type": "code",
   "execution_count": null,
   "metadata": {},
   "outputs": [],
   "source": []
  },
  {
   "cell_type": "code",
   "execution_count": null,
   "metadata": {},
   "outputs": [],
   "source": []
  },
  {
   "cell_type": "markdown",
   "metadata": {},
   "source": [
    "#### 2-5) BigQuery 테이블 → GCS의 파일로 저장"
   ]
  },
  {
   "cell_type": "code",
   "execution_count": 78,
   "metadata": {},
   "outputs": [
    {
     "data": {
      "text/plain": [
       "ExtractJob<project=sprintda05-jaemun, location=asia-northeast3, id=84215893-6f2e-4ef6-82bb-8b86fb81243a>"
      ]
     },
     "execution_count": 78,
     "metadata": {},
     "output_type": "execute_result"
    }
   ],
   "source": [
    "## CSV 파일로 저장\n",
    "bucket_name='sprintda05-jaemun-bucket'\n",
    "\n",
    "client.extract_table(\n",
    "    source='education.point_his',\n",
    "    destination_uris=f'gs://{bucket_name}/edu_dataset/point_his.csv'\n",
    ")"
   ]
  },
  {
   "cell_type": "code",
   "execution_count": 79,
   "metadata": {},
   "outputs": [
    {
     "data": {
      "text/plain": [
       "ExtractJob<project=sprintda05-jaemun, location=asia-northeast3, id=72cc0353-e42f-4ba9-b51b-1cb8dd651812>"
      ]
     },
     "execution_count": 79,
     "metadata": {},
     "output_type": "execute_result"
    }
   ],
   "source": [
    "## 압축 파일로 저장\n",
    "job_config = bigquery.job.ExtractJobConfig()\n",
    "job_config.compression = bigquery.Compression.GZIP\n",
    "\n",
    "client.extract_table(\n",
    "    source='education.point_his',\n",
    "    job_config=job_config,\n",
    "    destination_uris=f'gs://{bucket_name}/edu_dataset/point_his.csv.gz'\n",
    ")"
   ]
  },
  {
   "cell_type": "markdown",
   "metadata": {},
   "source": [
    "#### 2-6) GCS의 파일 → BigQuery 테이블로 Load"
   ]
  },
  {
   "cell_type": "code",
   "execution_count": 80,
   "metadata": {},
   "outputs": [
    {
     "data": {
      "text/plain": [
       "LoadJob<project=sprintda05-jaemun, location=asia-northeast3, id=29f8518a-459b-41de-a40f-84cda2846d6d>"
      ]
     },
     "execution_count": 80,
     "metadata": {},
     "output_type": "execute_result"
    }
   ],
   "source": [
    "## CSV 파일 \n",
    "job_config = bigquery.LoadJobConfig(\n",
    "    skip_leading_rows=1,\n",
    "    autodetect=True,\n",
    "    source_format=bigquery.SourceFormat.CSV\n",
    "    )\n",
    "\n",
    "client.load_table_from_uri(\n",
    "    source_uris='gs://sprintda05-jaemun-bucket/edu_dataset/point_his.csv',\n",
    "    destination='education.point_his_gcs',\n",
    "    job_config=job_config\n",
    ")"
   ]
  },
  {
   "cell_type": "code",
   "execution_count": 81,
   "metadata": {},
   "outputs": [
    {
     "data": {
      "text/plain": [
       "LoadJob<project=sprintda05-jaemun, location=asia-northeast3, id=db2d6803-1bbf-4fc8-bfc9-c66f6886a6fe>"
      ]
     },
     "execution_count": 81,
     "metadata": {},
     "output_type": "execute_result"
    }
   ],
   "source": [
    "## parquet 파일\n",
    "job_config = bigquery.LoadJobConfig(\n",
    "    autodetect=True,\n",
    "    source_format=bigquery.SourceFormat.PARQUET\n",
    "    )\n",
    "\n",
    "client.load_table_from_uri(\n",
    "    source_uris='gs://sprintda05-jaemun-bucket/bigquery_data/item_his.parquet',\n",
    "    destination='education.item_his_gcs',\n",
    "    job_config=job_config\n",
    ")"
   ]
  }
 ],
 "metadata": {
  "kernelspec": {
   "display_name": "Python 3",
   "language": "python",
   "name": "python3"
  },
  "language_info": {
   "codemirror_mode": {
    "name": "ipython",
    "version": 3
   },
   "file_extension": ".py",
   "mimetype": "text/x-python",
   "name": "python",
   "nbconvert_exporter": "python",
   "pygments_lexer": "ipython3",
   "version": "3.12.3"
  }
 },
 "nbformat": 4,
 "nbformat_minor": 2
}
